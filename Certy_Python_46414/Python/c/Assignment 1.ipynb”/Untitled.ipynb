{
 "cells": [
  {
   "cell_type": "code",
   "execution_count": null,
   "metadata": {},
   "outputs": [],
   "source": [
    "1. Escriba un programa que lea un entero(input) lo multiplique por 3 y lo imprima"
   ]
  },
  {
   "cell_type": "code",
   "execution_count": 23,
   "metadata": {
    "scrolled": true
   },
   "outputs": [
    {
     "name": "stdout",
     "output_type": "stream",
     "text": [
      "Ingrese un número: 9\n",
      "27\n"
     ]
    }
   ],
   "source": [
    "num=input(\"Ingrese un número\")\n",
    "print(int(num)*3)"
   ]
  },
  {
   "cell_type": "code",
   "execution_count": null,
   "metadata": {},
   "outputs": [],
   "source": [
    "#2. Escribir un programa que pida al cliente la longitud y ancho de la habitación \n",
    "#e imprima la superficie de la habitación, los valores podrán tener decimales.\n",
    "#Formato de salida deseado: xx.yy m^2\n"
   ]
  },
  {
   "cell_type": "code",
   "execution_count": 18,
   "metadata": {},
   "outputs": [
    {
     "name": "stdout",
     "output_type": "stream",
     "text": [
      "Cuál es la longitud de tu habitación? 6\n",
      "Cuál es el ancho de su habitación? 5\n",
      "El área de tu habitación es 30.0 m^2\n"
     ]
    }
   ],
   "source": [
    "long=input(\"Cuál es la longitud de tu habitación? \")\n",
    "ancho=input(\"Cuál es el ancho de su habitación? \")\n",
    "area=float(long)*float(ancho)\n",
    "print(\"El área de tu habitación es\",area,\"m^2\")"
   ]
  },
  {
   "cell_type": "code",
   "execution_count": 16,
   "metadata": {},
   "outputs": [],
   "source": [
    "#3.Determinar el área y volumen de un cilindro cuyas dimensiones (radio - altura)\n",
    "#se lean desde el teclado. Formato de salida deseado: xx.yy m^3"
   ]
  },
  {
   "cell_type": "code",
   "execution_count": 14,
   "metadata": {},
   "outputs": [
    {
     "name": "stdout",
     "output_type": "stream",
     "text": [
      "Ingrese el radio: 5\n",
      "Ingrese la altura: 4\n",
      "El área del cilindro es 282.7433388230814 m²\n",
      "El volumen del cilindro es 314.1592653589793 m³\n"
     ]
    }
   ],
   "source": [
    "import math\n",
    "radio=input(\"Introduzca el radio: \")\n",
    "altura=input(\"Introduzca la altura: \")\n",
    "area=2*math.pi*float(radio)*(float(radio)+float(altura))\n",
    "volumen=math.pi*float(radio)*float(radio)*float(altura)\n",
    "print(\"Área del cilindro es\",area,\"m²\")\n",
    "print(\"Volumen del cilindro es\",volumen,\"m³\")"
   ]
  },
  {
   "cell_type": "code",
   "execution_count": 9,
   "metadata": {},
   "outputs": [],
   "source": [
    "#4. Escriba un programa que lea la masa de dos cuerpos y la distancia entre ellos y a\n",
    "#continuación obtenga la fuerza gravitacional entre ella. \n",
    "\n",
    "#La salida debe ser en dinas; un DINA es igual a g*cm/seg2"
   ]
  },
  {
   "cell_type": "code",
   "execution_count": 4,
   "metadata": {},
   "outputs": [
    {
     "name": "stdout",
     "output_type": "stream",
     "text": [
      "Masa del cuerpo 1: 4000\n",
      "Masa del cuerpo 2: 73000\n",
      "Distancia entre los 2 cuerpos: 5\n",
      "LA fuerza gravitacional es: 0.78 dyn\n"
     ]
    }
   ],
   "source": [
    "import math \n",
    "masa1=float(input(\"Masa del cuerpo 1: \"))\n",
    "masa2=float(input(\"Masa del cuerpo 2: \"))\n",
    "dist=float(input(\"Distancia entre los 2 cuerpos: \"))\n",
    "grav = 6.673*((10)**(-8))\n",
    "fuerzaG = \"{0:.2f}\".format((grav*masa1*masa2)/(dist**2))\n",
    "\n",
    "print(f\"LA fuerza gravitacional es: {fuerzaG} dyn\")\n",
    "\n"
   ]
  },
  {
   "cell_type": "code",
   "execution_count": null,
   "metadata": {},
   "outputs": [],
   "source": [
    "#5. La famosa ecuación de Einstein para conversión \n",
    "#de una masa m en energía viene dada por la fórmula \n",
    "\n",
    "#Escribir un programa que lea una masa en gramos y obtenga \n",
    "#la cantidad de energía producida cuando la masa se convierta en energía."
   ]
  },
  {
   "cell_type": "code",
   "execution_count": 49,
   "metadata": {},
   "outputs": [
    {
     "name": "stdout",
     "output_type": "stream",
     "text": [
      "Masa 3\n",
      "La energia es 8.09e+11 erg\n"
     ]
    }
   ],
   "source": [
    "m = input(\"Masa \")\n",
    "c = 2.997925 * (10**10)\n",
    "E = c * float(m)**3\n",
    "print(f'La energia es {E:.2e} erg')"
   ]
  },
  {
   "cell_type": "code",
   "execution_count": null,
   "metadata": {},
   "outputs": [],
   "source": [
    "#6. Escribir un programa que lea la hora en un día de notación 24 horas y escriba la respuesta en notación de 12 horas. Por ejemplo, si la entrada es 13:45, la salida será: 2>45 PM"
   ]
  },
  {
   "cell_type": "code",
   "execution_count": null,
   "metadata": {},
   "outputs": [],
   "source": [
    "hora=input(\"escriba la hora en formato de 24 hora solo cinco caracteres (hh.mm): \")\n",
    "\n",
    "if (hora<12.00):\n",
    "     print (\"la hora es: %.2f AM\",hora);  \n",
    "else:\n",
    "    hour=hora-12\n",
    "    print(\"la hora es: %.2f PM\",hour);"
   ]
  },
  {
   "cell_type": "code",
   "execution_count": 45,
   "metadata": {},
   "outputs": [],
   "source": [
    "#7. Leer un número A, evaluar sucesivamente las expresiones siguientes \n",
    "#y desplegar los resultados obtenidos en un archivo denominado “practica01.out”."
   ]
  },
  {
   "cell_type": "code",
   "execution_count": 46,
   "metadata": {},
   "outputs": [
    {
     "name": "stdout",
     "output_type": "stream",
     "text": [
      "A 2\n"
     ]
    }
   ],
   "source": [
    "A = input(\"Introduzca valor de A \")\n",
    "B = int(A) + 10\n",
    "C = 2 * B + int(A)\n",
    "D = int(A) + B + C + 5\n",
    "print(f'A = {A} \\n', f'B = {B} \\n', f'C = {C} \\n', f'D = {D}', file=open(\"practica01.out\", \"a\") )"
   ]
  },
  {
   "cell_type": "code",
   "execution_count": null,
   "metadata": {},
   "outputs": [],
   "source": [
    "#8. Hacer leer un número X de tipo decimal, hallar su valor absoluto y decimal, \n",
    "#desplegar el resultado dentro del archivo “practica01.out”."
   ]
  },
  {
   "cell_type": "code",
   "execution_count": 47,
   "metadata": {},
   "outputs": [
    {
     "name": "stdout",
     "output_type": "stream",
     "text": [
      "Numero 2\n"
     ]
    }
   ],
   "source": [
    "X = input(\"Numero \")\n",
    "x = float(X)\n",
    "entero = int(x)\n",
    "decimal = int((x - int(x)) * 100)\n",
    "print(f'Numero: {x:.2f}\\n',f'Valor absoluto: {entero}\\n' ,f'Parte decimal: {decimal}', file=open(\"practica01.out\", \"a\"))"
   ]
  },
  {
   "cell_type": "code",
   "execution_count": null,
   "metadata": {},
   "outputs": [],
   "source": [
    "#9. Leer a, b, c y d, hallar el menor y mayor de los cuatro números, \n",
    "#desplegar su re]\n",
    "\n",
    "#sultado en el archivo “practica01.out”."
   ]
  },
  {
   "cell_type": "code",
   "execution_count": null,
   "metadata": {},
   "outputs": [],
   "source": [
    "valor = 0\n",
    "cant = 4 \n",
    "for i in range(val):\n",
    "    num = input('Numero ')\n",
    "    num2 = int(num)\n",
    "    if num2 > valor:\n",
    "        valor = num2\n",
    "print(f'El número mayor es {cant}', file=open(\"practica01.out\",\"a\")\n",
    "print(f'El número menor es {num2}', file=open(\"practica01.out\",\"a\")"
   ]
  },
  {
   "cell_type": "code",
   "execution_count": 20,
   "metadata": {},
   "outputs": [],
   "source": [
    "#10. Dado los valores de X, Y, Z, evaluar A = X^2+Y^2+Z^2. Si se cumple que, A<100 y Y<5\n",
    "#calcular B = (X+Y)^2 – X*Z, caso contrario calcular B = (X-Y)^2 + X*Z. Desplegar A y B\n",
    "#en el archivo “practica01.out”"
   ]
  },
  {
   "cell_type": "code",
   "execution_count": 11,
   "metadata": {},
   "outputs": [
    {
     "name": "stdout",
     "output_type": "stream",
     "text": [
      "Valor de X 7\n",
      "Valor de Y 8\n",
      "Valor de Z 9\n"
     ]
    }
   ],
   "source": [
    "X = input(\"Valor de X \")\n",
    "Y = input(\"Valor de Y \")\n",
    "Z = input(\"Valor de Z \")\n",
    "y = float(Y)\n",
    "x = float(X)\n",
    "z = float(Z)\n",
    "a = x**2 + y**2 + z**2\n",
    "if a<100 and y<5:\n",
    "    b = (x+y)**2 - x * z\n",
    "else:\n",
    "    b = (x-y)**2 + x * z\n",
    "print(f'a = {a}\\n', f'B = {b}\\n', file=open(\"practica1.out\", \"a\"),)"
   ]
  },
  {
   "cell_type": "code",
   "execution_count": null,
   "metadata": {},
   "outputs": [],
   "source": []
  }
 ],
 "metadata": {
  "kernelspec": {
   "display_name": "Python 3",
   "language": "python",
   "name": "python3"
  },
  "language_info": {
   "codemirror_mode": {
    "name": "ipython",
    "version": 3
   },
   "file_extension": ".py",
   "mimetype": "text/x-python",
   "name": "python",
   "nbconvert_exporter": "python",
   "pygments_lexer": "ipython3",
   "version": "3.7.2"
  }
 },
 "nbformat": 4,
 "nbformat_minor": 4
}
