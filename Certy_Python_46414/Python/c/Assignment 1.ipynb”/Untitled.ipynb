{
 "cells": [
  {
   "cell_type": "code",
   "execution_count": null,
   "metadata": {},
   "outputs": [],
   "source": [
    "1. Escriba un programa que lea un entero(input) lo multiplique por 3 y lo imprima"
   ]
  },
  {
   "cell_type": "code",
   "execution_count": 3,
   "metadata": {
    "scrolled": true
   },
   "outputs": [
    {
     "name": "stdout",
     "output_type": "stream",
     "text": [
      "Ingrese un número3\n",
      "9\n"
     ]
    }
   ],
   "source": [
    "num=input(\"Ingrese un número\")\n",
    "print(int(num)*3)"
   ]
  },
  {
   "cell_type": "code",
   "execution_count": null,
   "metadata": {},
   "outputs": [],
   "source": [
    "#2. Escribir un programa que pida al cliente la longitud y ancho de la habitación \n",
    "#e imprima la superficie de la habitación, los valores podrán tener decimales.\n",
    "#Formato de salida deseado: xx.yy m^2\n"
   ]
  },
  {
   "cell_type": "code",
   "execution_count": 18,
   "metadata": {},
   "outputs": [
    {
     "name": "stdout",
     "output_type": "stream",
     "text": [
      "Cuál es la longitud de tu habitación? 6\n",
      "Cuál es el ancho de su habitación? 5\n",
      "El área de tu habitación es 30.0 m^2\n"
     ]
    }
   ],
   "source": [
    "long=input(\"Cuál es la longitud de tu habitación? \")\n",
    "ancho=input(\"Cuál es el ancho de su habitación? \")\n",
    "area=float(long)*float(ancho)\n",
    "print(\"El área de tu habitación es\",area,\"m^2\")"
   ]
  },
  {
   "cell_type": "code",
   "execution_count": 16,
   "metadata": {},
   "outputs": [],
   "source": [
    "#3.Determinar el área y volumen de un cilindro cuyas dimensiones (radio - altura)\n",
    "#se lean desde el teclado. Formato de salida deseado: xx.yy m^3"
   ]
  },
  {
   "cell_type": "code",
   "execution_count": 14,
   "metadata": {},
   "outputs": [
    {
     "name": "stdout",
     "output_type": "stream",
     "text": [
      "Ingrese el radio: 5\n",
      "Ingrese la altura: 4\n",
      "El área del cilindro es 282.7433388230814 m²\n",
      "El volumen del cilindro es 314.1592653589793 m³\n"
     ]
    }
   ],
   "source": [
    "import math\n",
    "radio=input(\"Ingrese el radio: \")\n",
    "altura=input(\"Ingrese la altura: \")\n",
    "area=2*math.pi*float(radio)*(float(radio)+float(altura))\n",
    "volumen=math.pi*float(radio)*float(radio)*float(altura)\n",
    "print(\"Área del cilindro es\",area,\"m²\")\n",
    "print(\"Volumen del cilindro es\",volumen,\"m³\")"
   ]
  },
  {
   "cell_type": "code",
   "execution_count": 19,
   "metadata": {},
   "outputs": [],
   "source": [
    "#4. Escriba un programa que lea la masa de dos cuerpos y la distancia entre ellos y a\n",
    "#continuación obtenga la fuerza gravitacional entre ella. \n",
    "\n",
    "#La salida debe ser en dinas; un DINA es igual a g*cm/seg2"
   ]
  },
  {
   "cell_type": "code",
   "execution_count": null,
   "metadata": {},
   "outputs": [],
   "source": []
  },
  {
   "cell_type": "code",
   "execution_count": null,
   "metadata": {},
   "outputs": [],
   "source": [
    "#5. La famosa ecuación de Einstein para conversión \n",
    "#de una masa m en energía viene dada por la fórmula \n",
    "\n",
    "#Escribir un programa que lea una masa en gramos y obtenga \n",
    "#la cantidad de energía producida cuando la masa se convierta en energía."
   ]
  },
  {
   "cell_type": "code",
   "execution_count": 49,
   "metadata": {},
   "outputs": [
    {
     "name": "stdout",
     "output_type": "stream",
     "text": [
      "Masa 3\n",
      "La energia es 8.09e+11 erg\n"
     ]
    }
   ],
   "source": [
    "m = input(\"Masa \")\n",
    "c = 2.997925 * (10**10)\n",
    "E = c * float(m)**3\n",
    "print(f'La energia es {E:.2e} erg')"
   ]
  },
  {
   "cell_type": "code",
   "execution_count": null,
   "metadata": {},
   "outputs": [],
   "source": [
    "#6. Escribir un programa que lea la hora en un día de notación \n",
    "#24 horas y escriba la respuesta en notación de 12 horas. \n",
    "#Por ejemplo, si la entrada es 13:45, la salida será:"
   ]
  },
  {
   "cell_type": "code",
   "execution_count": null,
   "metadata": {},
   "outputs": [],
   "source": []
  },
  {
   "cell_type": "code",
   "execution_count": 45,
   "metadata": {},
   "outputs": [],
   "source": [
    "#7. Leer un número A, evaluar sucesivamente las expresiones siguientes \n",
    "#y desplegar los resultados obtenidos en un archivo denominado “practica01.out”."
   ]
  },
  {
   "cell_type": "code",
   "execution_count": 46,
   "metadata": {},
   "outputs": [
    {
     "name": "stdout",
     "output_type": "stream",
     "text": [
      "A 2\n"
     ]
    }
   ],
   "source": [
    "A = input(\"A \")\n",
    "B = int(A) + 10\n",
    "C = 2 * B + int(A)\n",
    "D = int(A) + B + C + 5\n",
    "print(f'A = {A} \\n', f'B = {B} \\n', f'C = {C} \\n', f'D = {D}', file=open(\"practica01.out\", \"a\") )"
   ]
  },
  {
   "cell_type": "code",
   "execution_count": null,
   "metadata": {},
   "outputs": [],
   "source": [
    "#8. Hacer leer un número X de tipo decimal, hallar su valor absoluto y decimal, \n",
    "#desplegar el resultado dentro del archivo “practica01.out”."
   ]
  },
  {
   "cell_type": "code",
   "execution_count": 47,
   "metadata": {},
   "outputs": [
    {
     "name": "stdout",
     "output_type": "stream",
     "text": [
      "Numero 2\n"
     ]
    }
   ],
   "source": [
    "X = input(\"Numero \")\n",
    "x = float(X)\n",
    "entero = int(x)\n",
    "decimal = int((x - int(x)) * 100)\n",
    "print(f'Numero: {x:.2f}\\n',f'Valor absoluto: {entero}\\n' ,f'Parte decimal: {decimal}', file=open(\"practica01.out\", \"a\"))"
   ]
  },
  {
   "cell_type": "code",
   "execution_count": null,
   "metadata": {},
   "outputs": [],
   "source": [
    "#9. Leer a, b, c y d, hallar el menor y mayor de los cuatro números, \n",
    "#desplegar su re]\n",
    "\n",
    "sultado en el archivo “practica01.out”."
   ]
  },
  {
   "cell_type": "code",
   "execution_count": 50,
   "metadata": {},
   "outputs": [
    {
     "name": "stdout",
     "output_type": "stream",
     "text": [
      "Numero 4\n",
      "Numero 5\n",
      "Numero 5\n",
      "Numero 6\n"
     ]
    }
   ],
   "source": [
    "mayor = 0\n",
    "maximo = 4 #Cantidad de numeros, puede variar\n",
    "for i in range(maximo):\n",
    "    num = input('Numero ')\n",
    "    numC = int(num)\n",
    "    if numC > mayor:\n",
    "        mayor = numC\n",
    "print(f'El numero mayor es {mayor}', file=open(\"practica01.out\", \"a\"))"
   ]
  },
  {
   "cell_type": "code",
   "execution_count": 51,
   "metadata": {},
   "outputs": [],
   "source": [
    "#10. Dado los valores de X, Y, Z, evaluar A = X^2+Y^2+Z^2. Si se cumple que, A<100 y Y<5\n",
    "#calcular B = (X+Y)^2 – X*Z, caso contrario calcular B = (X-Y)^2 + X*Z. Desplegar A y B\n",
    "#en el archivo “practica01.out”"
   ]
  },
  {
   "cell_type": "code",
   "execution_count": 43,
   "metadata": {},
   "outputs": [
    {
     "name": "stdout",
     "output_type": "stream",
     "text": [
      "X 3\n",
      "Y 2\n",
      "Z 2\n"
     ]
    }
   ],
   "source": [
    "X = input(\"X \")\n",
    "Y = input(\"Y \")\n",
    "Z = input(\"Z \")\n",
    "y = float(Y)\n",
    "x = float(X)\n",
    "z = float(Z)\n",
    "A = x**2 + y**2 + z**2\n",
    "if A<100 and y<5:\n",
    "    B = (x+y)**2 - x * z\n",
    "else:\n",
    "    B = (x-y)**2 + x * z\n",
    "print(f'A = {A}\\n', f'B = {B}\\n', file=open(\"practica1.out\", \"a\"))"
   ]
  },
  {
   "cell_type": "code",
   "execution_count": null,
   "metadata": {},
   "outputs": [],
   "source": []
  }
 ],
 "metadata": {
  "kernelspec": {
   "display_name": "Python 3",
   "language": "python",
   "name": "python3"
  },
  "language_info": {
   "codemirror_mode": {
    "name": "ipython",
    "version": 3
   },
   "file_extension": ".py",
   "mimetype": "text/x-python",
   "name": "python",
   "nbconvert_exporter": "python",
   "pygments_lexer": "ipython3",
   "version": "3.7.2"
  }
 },
 "nbformat": 4,
 "nbformat_minor": 4
}
