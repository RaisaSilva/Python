{
 "cells": [
  {
   "cell_type": "code",
   "execution_count": 6,
   "metadata": {},
   "outputs": [
    {
     "name": "stdout",
     "output_type": "stream",
     "text": [
      "JUEGO DE DADOS: HASTA REPETIR\n",
      "Tirada de Cubitus: 2 5 3 3 \n",
      "Tirada de Humerus: 2 5 6 6 \n",
      "Cubitus ha sacado un 3 y Humerus ha sacado un 6\n",
      "Ha ganado Humerus\n"
     ]
    }
   ],
   "source": [
    "#Ejercicio1\n",
    "import random\n",
    "\n",
    "print(\"JUEGO DE DADOS: HASTA REPETIR\")\n",
    "#Cubitus\n",
    "l1 = []\n",
    "#Humerus\n",
    "l2 = []\n",
    "\n",
    "val1 = random.randint(1,6)\n",
    "l1.append(val1)\n",
    "valores = random.randint(1,6)\n",
    "\n",
    "while not valores == val1:\n",
    "    \n",
    "        l1.append(valores)\n",
    "        val1 = valores\n",
    "        valores = random.randint(1,6)\n",
    "        \n",
    "l1.append(valores)\n",
    "\n",
    "\n",
    "val1 = random.randint(1,6)\n",
    "l2.append(val1)\n",
    "valores = random.randint(1,6)\n",
    "\n",
    "while not valores == val1:\n",
    "        l2.append(valores)\n",
    "        val1 = valores\n",
    "        valores = random.randint(1,6)\n",
    "        \n",
    "l2.append(valores)\n",
    "\n",
    "print(\"Tirada de Cubitus:\",end=\" \")\n",
    "[print(x, end=\" \") for x in l1]\n",
    "print(\"\")\n",
    "print(\"Tirada de Humerus:\",end=\" \")\n",
    "[print(x, end=\" \") for x in l2]\n",
    "print(\"\")\n",
    "print(\"Cubitus ha sacado un\",l1[-1],\"y Humerus ha sacado un\",l2[-1])\n",
    "\n",
    "\n",
    "if l1[-1] > l2[-1]:\n",
    "    print(\"Ha ganado Cubitus\")\n",
    "elif l1[-1] < l2[-1]:\n",
    "    print(\"Ha ganado Humerus\")\n",
    "else:\n",
    "    print(\"Han empatado\")"
   ]
  },
  {
   "cell_type": "code",
   "execution_count": null,
   "metadata": {},
   "outputs": [],
   "source": [
    "#Ejercicio2 02\n",
    "m=int(input(\"Ingrese tamaño de madera:\"))\n",
    "n=int(input(\"Ingrese número de cortes:\"))#numero de cortes\n",
    "cortes=(input(\"Ingrese cortes a realizar separados por comas\"))\n",
    "\n",
    "listacor=cortes.split(sep = \",\")\n",
    "\n",
    "for i in (range(len(listacor))):\n",
    "    listacor[i]=int(listacor[i])\n",
    "    \n",
    "   # if listacor[0] == 2:\n",
    "        \n",
    "    \n",
    "    \n",
    "print (listacor)\n",
    "\n"
   ]
  },
  {
   "cell_type": "code",
   "execution_count": null,
   "metadata": {},
   "outputs": [],
   "source": []
  }
 ],
 "metadata": {
  "kernelspec": {
   "display_name": "Python 3",
   "language": "python",
   "name": "python3"
  },
  "language_info": {
   "codemirror_mode": {
    "name": "ipython",
    "version": 3
   },
   "file_extension": ".py",
   "mimetype": "text/x-python",
   "name": "python",
   "nbconvert_exporter": "python",
   "pygments_lexer": "ipython3",
   "version": "3.7.2"
  }
 },
 "nbformat": 4,
 "nbformat_minor": 4
}
