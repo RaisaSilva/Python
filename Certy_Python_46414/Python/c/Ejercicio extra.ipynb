{
 "cells": [
  {
   "cell_type": "code",
   "execution_count": 49,
   "metadata": {},
   "outputs": [
    {
     "name": "stdout",
     "output_type": "stream",
     "text": [
      "Lineas a ingresar : 3\n",
      "This is a test\n",
      "Count me 1 2 3 4 5.\n",
      "Wow!!!! Is this question easy?\n",
      "S 7\n",
      "T 6\n",
      "I 5\n",
      "E 4\n",
      "O 3\n",
      "A 2\n",
      "H 2\n",
      "N 2\n",
      "U 2\n",
      "W 2\n",
      "C 1\n",
      "M 1\n",
      "Q 1\n",
      "Y 1\n"
     ]
    }
   ],
   "source": [
    "n = int(input(\"Lineas a ingresar : \"))\n",
    "if n > 0:\n",
    "    abc = [[0,\"A\"],[0,\"B\"],[0,\"C\"],[0,\"D\"],[0,\"E\"],[0,\"F\"],[0,\"G\"],[0,\"H\"],[0,\"I\"],[0,\"J\"],[0,\"K\"],[0,\"L\"],[0,\"M\"],[0,\"N\"],[0,\"O\"],[0,\"P\"],[0,\"Q\"],[0,\"R\"],[0,\"S\"],[0,\"T\"],[0,\"U\"],[0,\"V\"],[0,\"W\"],[0,\"X\"],[0,\"Y\"],[0,\"Z\"]]\n",
    "    for i in range(n):\n",
    "        palabras = input(\"\")\n",
    "        palabras = palabras.upper()\n",
    "        for j in range(26):\n",
    "            abc[j][0] += palabras.count(abc[j][1])\n",
    "    abc.sort(reverse=True)\n",
    "    res = []\n",
    "    for i in range(26):\n",
    "        if abc[i][0] > 0:\n",
    "            res.append((abc[i][1], abc[i][0]))\n",
    "    if len(res) > 1:\n",
    "        i = 0\n",
    "        while i < len(res) - 1:\n",
    "            cont = res[i][1]\n",
    "            palabras = []\n",
    "            palabras.append(res[i][0])\n",
    "            i+=1\n",
    "            cont2 = res[i][1]\n",
    "            while cont == cont2 and i < len(res):\n",
    "                palabras.append(res[i][0])\n",
    "                i+=1\n",
    "                if not i == len(res):\n",
    "                    cont2 = res[i][1]\n",
    "            palabras.sort()\n",
    "            for j in range(len(palabras)):\n",
    "                print(palabras[j], cont)\n",
    "    else:\n",
    "        print(res[0][0], res[0][1])"
   ]
  },
  {
   "cell_type": "code",
   "execution_count": null,
   "metadata": {},
   "outputs": [],
   "source": []
  }
 ],
 "metadata": {
  "kernelspec": {
   "display_name": "Python 3",
   "language": "python",
   "name": "python3"
  },
  "language_info": {
   "codemirror_mode": {
    "name": "ipython",
    "version": 3
   },
   "file_extension": ".py",
   "mimetype": "text/x-python",
   "name": "python",
   "nbconvert_exporter": "python",
   "pygments_lexer": "ipython3",
   "version": "3.7.2"
  }
 },
 "nbformat": 4,
 "nbformat_minor": 4
}
